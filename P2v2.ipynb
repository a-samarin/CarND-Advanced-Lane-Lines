{
 "cells": [
  {
   "cell_type": "code",
   "execution_count": 54,
   "metadata": {},
   "outputs": [],
   "source": [
    "import numpy as np\n",
    "import cv2\n",
    "import glob\n",
    "import matplotlib.pyplot as plt\n",
    "%matplotlib qt"
   ]
  },
  {
   "cell_type": "code",
   "execution_count": 55,
   "metadata": {},
   "outputs": [],
   "source": [
    "from helper import points_extraction, corners_unwarp, abs_sobel_thresh, mag_thresh, dir_threshold, hls_select\n",
    "from helper import hist, find_lane_pixels, fit_polynomial, fit_poly, search_around_poly, measure_curvature_pixels\n",
    "from helper import measure_curvature_real, region_of_interest"
   ]
  },
  {
   "cell_type": "markdown",
   "metadata": {},
   "source": [
    "# Camera Calibration and Distortion Correction Steps"
   ]
  },
  {
   "cell_type": "code",
   "execution_count": 56,
   "metadata": {},
   "outputs": [],
   "source": [
    "# make list of calibration images\n",
    "images = glob.glob('camera_cal/calibration*.jpg')\n",
    "\n",
    "(objpoints, imgpoints, retlist) = points_extraction(images, nx=9, ny=6)"
   ]
  },
  {
   "cell_type": "code",
   "execution_count": 57,
   "metadata": {},
   "outputs": [
    {
     "data": {
      "text/plain": [
       "Text(0.5,1,'Undistorted Image')"
      ]
     },
     "execution_count": 57,
     "metadata": {},
     "output_type": "execute_result"
    }
   ],
   "source": [
    "img = cv2.imread('camera_cal/calibration1.jpg')\n",
    "img_size = (img.shape[1], img.shape[0])\n",
    "\n",
    "# Do camera calibration given object points and image points\n",
    "ret, mtx, dist, rvecs, tvecs = cv2.calibrateCamera(objpoints, imgpoints, img_size, None, None)\n",
    "\n",
    "\n",
    "dst = cv2.undistort(img, mtx, dist, None, mtx)\n",
    "\n",
    "# Visualize undistortion\n",
    "f, (ax1, ax2) = plt.subplots(1, 2, figsize=(20,10))\n",
    "ax1.imshow(img)\n",
    "ax1.set_title('Original Image', fontsize=30)\n",
    "ax2.imshow(dst)\n",
    "ax2.set_title('Undistorted Image', fontsize=30)"
   ]
  },
  {
   "cell_type": "code",
   "execution_count": 75,
   "metadata": {},
   "outputs": [],
   "source": [
    "# h_thresh=(19, 90), sx_thresh=(15, 110), r_thresh=(215, 255)\n",
    "\n",
    "def color_gradient_pipline(img, h_thresh=(19, 90), sx_thresh=(15, 110), r_thresh=(225, 255)):\n",
    "    img = np.copy(img)\n",
    "    \n",
    "    undist = cv2.undistort(img, mtx, dist, None, mtx)\n",
    "    \n",
    "    img = np.copy(undist)\n",
    "    \n",
    "    # Convert to HLS color space and separate the V channel\n",
    "    hls = cv2.cvtColor(image, cv2.COLOR_BGR2HLS)\n",
    "\n",
    "    h_channel = hls[:,:,0]\n",
    "    #l_channel = hls[:,:,1]\n",
    "    # s_channel = hls[:,:,2]\n",
    "\n",
    "    # h_thresh = (19, 90)\n",
    "    h_binary_output = np.zeros_like(h_channel)\n",
    "    h_binary_output[(h_channel > h_thresh[0]) & (h_channel <= h_thresh[1])] = 1\n",
    "\n",
    "    # R threshold\n",
    "    R = image[:,:,2]\n",
    "    # r_thresh = (215, 255)\n",
    "    r_binary = np.zeros_like(R)\n",
    "    r_binary[(R > r_thresh[0]) & (R <= r_thresh[1])] = 1\n",
    "\n",
    "    # Sobel x\n",
    "    # sx_thresh = (15, 110)\n",
    "    r_sx_binary = abs_sobel_thresh(R, orient='x', sobel_kernel=5, sob_thresh=sx_thresh)\n",
    "\n",
    "\n",
    "    # Combine the two binary thresholds\n",
    "    combined_binary = np.zeros_like(h_binary_output)\n",
    "    combined_binary[(h_binary_output == 1) | (r_sx_binary == 1) | (r_binary == 1)] = 1\n",
    "    \n",
    "    return combined_binary, h_binary_output, r_binary, r_sx_binary"
   ]
  },
  {
   "cell_type": "code",
   "execution_count": 59,
   "metadata": {},
   "outputs": [],
   "source": [
    "def show_color_gradient_pipline(img):\n",
    "    combined_binary, h_binary_output, r_binary, r_sx_binary = color_gradient_pipline(image)\n",
    "    \n",
    "    f, (ax1, ax2) = plt.subplots(1, 2, figsize=(24, 9))\n",
    "    f.tight_layout()\n",
    "\n",
    "    ax1.imshow(h_binary_output, cmap='gray')\n",
    "    ax1.set_title('h_binary_output', fontsize=40)\n",
    "\n",
    "    ax2.imshow(r_binary, cmap='gray')\n",
    "    ax2.set_title('r_binary', fontsize=40)\n",
    "    plt.subplots_adjust(left=0., right=1, top=0.9, bottom=0.)\n",
    "    \n",
    "    f, (ax1, ax2) = plt.subplots(1, 2, figsize=(24, 9))\n",
    "    f.tight_layout()\n",
    "\n",
    "    ax1.imshow(r_sx_binary, cmap='gray')\n",
    "    ax1.set_title('r_sx_binary', fontsize=40)\n",
    "\n",
    "    ax2.imshow(combined_binary, cmap='gray')\n",
    "    ax2.set_title('combined_binary', fontsize=40)\n",
    "    plt.subplots_adjust(left=0., right=1, top=0.9, bottom=0.)"
   ]
  },
  {
   "cell_type": "code",
   "execution_count": 60,
   "metadata": {},
   "outputs": [],
   "source": [
    "image = cv2.imread('test_images/test1.jpg')\n",
    "\n",
    "show_color_gradient_pipline(image)"
   ]
  },
  {
   "cell_type": "code",
   "execution_count": 61,
   "metadata": {},
   "outputs": [],
   "source": [
    "image = cv2.imread('test_images/test2.jpg')\n",
    "\n",
    "show_color_gradient_pipline(image)"
   ]
  },
  {
   "cell_type": "code",
   "execution_count": 62,
   "metadata": {},
   "outputs": [],
   "source": [
    "image = cv2.imread('test_images/test3.jpg')\n",
    "\n",
    "show_color_gradient_pipline(image)"
   ]
  },
  {
   "cell_type": "code",
   "execution_count": 63,
   "metadata": {},
   "outputs": [],
   "source": [
    "image = cv2.imread('test_images/test4.jpg')\n",
    "\n",
    "show_color_gradient_pipline(image)"
   ]
  },
  {
   "cell_type": "code",
   "execution_count": 64,
   "metadata": {},
   "outputs": [],
   "source": [
    "image = cv2.imread('test_images/test5.jpg')\n",
    "\n",
    "show_color_gradient_pipline(image)"
   ]
  },
  {
   "cell_type": "code",
   "execution_count": 65,
   "metadata": {},
   "outputs": [],
   "source": [
    "image = cv2.imread('test_images/test6.jpg')\n",
    "\n",
    "show_color_gradient_pipline(image)"
   ]
  },
  {
   "cell_type": "code",
   "execution_count": 66,
   "metadata": {},
   "outputs": [],
   "source": [
    "image = cv2.imread('test_images/straight_lines1.jpg')\n",
    "\n",
    "show_color_gradient_pipline(image)"
   ]
  },
  {
   "cell_type": "code",
   "execution_count": 67,
   "metadata": {},
   "outputs": [],
   "source": [
    "image = cv2.imread('test_images/straight_lines2.jpg')\n",
    "\n",
    "show_color_gradient_pipline(image)"
   ]
  },
  {
   "cell_type": "markdown",
   "metadata": {},
   "source": [
    "# Region of Interest"
   ]
  },
  {
   "cell_type": "code",
   "execution_count": 71,
   "metadata": {},
   "outputs": [],
   "source": [
    "def region_of_inderest(img):\n",
    "    imshape = img.shape\n",
    "\n",
    "    vertices = np.array([[(150,imshape[0]),(imshape[1]//2-80, imshape[0]//2+80), \n",
    "                          (imshape[1]//2+80, imshape[0]//2+80), (imshape[1]-150,imshape[0])]], dtype=np.int32)\n",
    "\n",
    "    masked_image = region_of_interest(img, vertices)\n",
    "    \n",
    "    return masked_image"
   ]
  },
  {
   "cell_type": "code",
   "execution_count": 72,
   "metadata": {},
   "outputs": [],
   "source": [
    "def img_warp(img):\n",
    "    \n",
    "    # Grab the image shape\n",
    "    img_size = (img.shape[1], img.shape[0])\n",
    "\n",
    "    vertices = np.array([[(150,img_size[1]),(img_size[0]//2-50, img_size[1]//2+90), \n",
    "                          (img_size[0]//2+50, img_size[1]//2+90), (img_size[0]-150,img_size[1])]], dtype=np.int32)\n",
    "\n",
    "    # show_region_of_interest(combined_binary, vertices[0])\n",
    "\n",
    "    src = np.float32(vertices)\n",
    "    \n",
    "    dst = np.float32([[(300,img_size[1]), (300, 0), (img_size[0]-350,0), (img_size[0]-350,img_size[1])]])\n",
    "\n",
    "    # Given src and dst points, calculate the perspective transform matrix\n",
    "    M = cv2.getPerspectiveTransform(src, dst)\n",
    "\n",
    "    # Warp the image using OpenCV warpPerspective()\n",
    "    warped = cv2.warpPerspective(img, M, img_size)\n",
    "    \n",
    "    return warped"
   ]
  },
  {
   "cell_type": "code",
   "execution_count": 73,
   "metadata": {},
   "outputs": [],
   "source": [
    "def show_warped(img):\n",
    "    combined_binary, h_binary_output, r_binary, r_sx_binary = color_gradient_pipline(image)\n",
    "    \n",
    "    masked_image = region_of_inderest(combined_binary)\n",
    "    \n",
    "    wraped_img = img_warp(masked_image)\n",
    "    \n",
    "    f, (ax1, ax2) = plt.subplots(1, 2, figsize=(24, 9))\n",
    "    f.tight_layout()\n",
    "\n",
    "    ax1.imshow(combined_binary, cmap='gray')\n",
    "    ax1.set_title('combined_binary', fontsize=40)\n",
    "\n",
    "    ax2.imshow(wraped_img, cmap='gray')\n",
    "    ax2.set_title('wraped_img', fontsize=40)\n",
    "    plt.subplots_adjust(left=0., right=1, top=0.9, bottom=0.)"
   ]
  },
  {
   "cell_type": "code",
   "execution_count": 85,
   "metadata": {},
   "outputs": [],
   "source": [
    "image = cv2.imread('test_images/straight_lines2.jpg')\n",
    "\n",
    "show_warped(image)"
   ]
  },
  {
   "cell_type": "markdown",
   "metadata": {},
   "source": [
    "# Finding the Lines"
   ]
  },
  {
   "cell_type": "code",
   "execution_count": null,
   "metadata": {},
   "outputs": [],
   "source": []
  }
 ],
 "metadata": {
  "kernelspec": {
   "display_name": "Python 3",
   "language": "python",
   "name": "python3"
  },
  "language_info": {
   "codemirror_mode": {
    "name": "ipython",
    "version": 3
   },
   "file_extension": ".py",
   "mimetype": "text/x-python",
   "name": "python",
   "nbconvert_exporter": "python",
   "pygments_lexer": "ipython3",
   "version": "3.7.0"
  }
 },
 "nbformat": 4,
 "nbformat_minor": 2
}
